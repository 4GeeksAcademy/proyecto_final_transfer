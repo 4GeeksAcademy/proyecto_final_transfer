{
    "cells": [
        {
            "cell_type": "markdown",
            "metadata": {},
            "source": [
                "# Explore here"
            ]
        },
        {
            "cell_type": "code",
            "execution_count": 1,
            "metadata": {},
            "outputs": [],
            "source": [
                "import pandas as pd"
            ]
        },
        {
            "cell_type": "code",
            "execution_count": 2,
            "metadata": {},
            "outputs": [
                {
                    "name": "stdout",
                    "output_type": "stream",
                    "text": [
                        "El shape de Appearence: (697243, 13)\n",
                        "El shape de Club Games: (145274, 11)\n",
                        "El shape de Clubs: (439, 17)\n",
                        "El shape de Competitions: (44, 11)\n",
                        "El shape de Game events: (555044, 10)\n",
                        "El shape de Game Lineups: (474540, 10)\n",
                        "El shape de Transfers: (78658, 10)\n",
                        "El shape de Players: (32480, 23)\n",
                        "El shape de Games: (72637, 23)\n",
                        "El shape de Player Valuations: (494561, 5)\n"
                    ]
                }
            ],
            "source": [
                "# Apertura de datasets\n",
                "\n",
                "appearence = pd.read_csv(\"/workspaces/proyecto_final_transfer/data/datos_de_transfer/proyecto final/appearances.csv\")\n",
                "club_games = pd.read_csv(\"/workspaces/proyecto_final_transfer/data/datos_de_transfer/proyecto final/club_games.csv\")\n",
                "clubs = pd.read_csv(\"/workspaces/proyecto_final_transfer/data/datos_de_transfer/proyecto final/clubs.csv\")\n",
                "competitions = pd.read_csv(\"/workspaces/proyecto_final_transfer/data/datos_de_transfer/proyecto final/competitions.csv\")\n",
                "game_events = pd.read_csv(\"/workspaces/proyecto_final_transfer/data/datos_de_transfer/proyecto final/game_events.csv\")\n",
                "game_lineups = pd.read_csv(\"/workspaces/proyecto_final_transfer/data/datos_de_transfer/proyecto final/game_lineups.csv\")\n",
                "transfers = pd.read_csv(\"/workspaces/proyecto_final_transfer/data/datos_de_transfer/proyecto final/transfers.csv\")\n",
                "players = pd.read_csv(\"/workspaces/proyecto_final_transfer/data/datos_de_transfer/proyecto final/players.csv\")\n",
                "games = pd.read_csv(\"/workspaces/proyecto_final_transfer/data/datos_de_transfer/proyecto final/games.csv\")\n",
                "player_valuations = pd.read_csv(\"/workspaces/proyecto_final_transfer/data/datos_de_transfer/proyecto final/player_valuations.csv\")\n",
                "\n",
                "#  Datasets en un diccionario para organizarlos\n",
                "datasets = {\"Appearence\": appearence, \"Club Games\": club_games, \"Clubs\": clubs, \"Competitions\": competitions,\n",
                "            \"Game events\":game_events, \"Game Lineups\":game_lineups, \"Transfers\":transfers, \"Players\":players,\n",
                "            \"Games\":games, \"Player Valuations\":player_valuations}\n",
                "\n",
                "\n",
                "for name, dataset in datasets.items():\n",
                "    print(f\"El shape de {name}: {dataset.shape}\")\n"
            ]
        },
        {
            "cell_type": "code",
            "execution_count": 3,
            "metadata": {},
            "outputs": [
                {
                    "data": {
                        "image/svg+xml": [
                            "<svg xmlns:xlink=\"http://www.w3.org/1999/xlink\" xmlns=\"http://www.w3.org/2000/svg\" aria-roledescription=\"classDiagram\" viewBox=\"0 0 1456.6796875 541\" style=\"max-width: 1456.68px; background-color: transparent;\" width=\"100%\" id=\"mermaid-1673685336437\"><style>#mermaid-1673685336437{font-family:&quot;trebuchet ms&quot;,verdana,arial,sans-serif;font-size:16px;fill:#333;}#mermaid-1673685336437 .error-icon{fill:#552222;}#mermaid-1673685336437 .error-text{fill:#552222;stroke:#552222;}#mermaid-1673685336437 .edge-thickness-normal{stroke-width:2px;}#mermaid-1673685336437 .edge-thickness-thick{stroke-width:3.5px;}#mermaid-1673685336437 .edge-pattern-solid{stroke-dasharray:0;}#mermaid-1673685336437 .edge-pattern-dashed{stroke-dasharray:3;}#mermaid-1673685336437 .edge-pattern-dotted{stroke-dasharray:2;}#mermaid-1673685336437 .marker{fill:#333333;stroke:#333333;}#mermaid-1673685336437 .marker.cross{stroke:#333333;}#mermaid-1673685336437 svg{font-family:&quot;trebuchet ms&quot;,verdana,arial,sans-serif;font-size:16px;}#mermaid-1673685336437 g.classGroup text{fill:#9370DB;fill:#131300;stroke:none;font-family:&quot;trebuchet ms&quot;,verdana,arial,sans-serif;font-size:10px;}#mermaid-1673685336437 g.classGroup text .title{font-weight:bolder;}#mermaid-1673685336437 .nodeLabel,#mermaid-1673685336437 .edgeLabel{color:#131300;}#mermaid-1673685336437 .edgeLabel .label rect{fill:#ECECFF;}#mermaid-1673685336437 .label text{fill:#131300;}#mermaid-1673685336437 .edgeLabel .label span{background:#ECECFF;}#mermaid-1673685336437 .classTitle{font-weight:bolder;}#mermaid-1673685336437 .node rect,#mermaid-1673685336437 .node circle,#mermaid-1673685336437 .node ellipse,#mermaid-1673685336437 .node polygon,#mermaid-1673685336437 .node path{fill:#ECECFF;stroke:#9370DB;stroke-width:1px;}#mermaid-1673685336437 .divider{stroke:#9370DB;stroke:1;}#mermaid-1673685336437 g.clickable{cursor:pointer;}#mermaid-1673685336437 g.classGroup rect{fill:#ECECFF;stroke:#9370DB;}#mermaid-1673685336437 g.classGroup line{stroke:#9370DB;stroke-width:1;}#mermaid-1673685336437 .classLabel .box{stroke:none;stroke-width:0;fill:#ECECFF;opacity:0.5;}#mermaid-1673685336437 .classLabel .label{fill:#9370DB;font-size:10px;}#mermaid-1673685336437 .relation{stroke:#333333;stroke-width:1;fill:none;}#mermaid-1673685336437 .dashed-line{stroke-dasharray:3;}#mermaid-1673685336437 .dotted-line{stroke-dasharray:1 2;}#mermaid-1673685336437 #compositionStart,#mermaid-1673685336437 .composition{fill:#333333!important;stroke:#333333!important;stroke-width:1;}#mermaid-1673685336437 #compositionEnd,#mermaid-1673685336437 .composition{fill:#333333!important;stroke:#333333!important;stroke-width:1;}#mermaid-1673685336437 #dependencyStart,#mermaid-1673685336437 .dependency{fill:#333333!important;stroke:#333333!important;stroke-width:1;}#mermaid-1673685336437 #dependencyStart,#mermaid-1673685336437 .dependency{fill:#333333!important;stroke:#333333!important;stroke-width:1;}#mermaid-1673685336437 #extensionStart,#mermaid-1673685336437 .extension{fill:#ECECFF!important;stroke:#333333!important;stroke-width:1;}#mermaid-1673685336437 #extensionEnd,#mermaid-1673685336437 .extension{fill:#ECECFF!important;stroke:#333333!important;stroke-width:1;}#mermaid-1673685336437 #aggregationStart,#mermaid-1673685336437 .aggregation{fill:#ECECFF!important;stroke:#333333!important;stroke-width:1;}#mermaid-1673685336437 #aggregationEnd,#mermaid-1673685336437 .aggregation{fill:#ECECFF!important;stroke:#333333!important;stroke-width:1;}#mermaid-1673685336437 #lollipopStart,#mermaid-1673685336437 .lollipop{fill:#ECECFF!important;stroke:#333333!important;stroke-width:1;}#mermaid-1673685336437 #lollipopEnd,#mermaid-1673685336437 .lollipop{fill:#ECECFF!important;stroke:#333333!important;stroke-width:1;}#mermaid-1673685336437 .edgeTerminals{font-size:11px;}#mermaid-1673685336437 .classTitleText{text-anchor:middle;font-size:18px;fill:#333;}#mermaid-1673685336437 :root{--mermaid-font-family:&quot;trebuchet ms&quot;,verdana,arial,sans-serif;}</style><g><defs><marker orient=\"auto\" markerHeight=\"240\" markerWidth=\"190\" refY=\"7\" refX=\"0\" class=\"marker aggregation classDiagram\" id=\"classDiagram-aggregationStart\"><path d=\"M 18,7 L9,13 L1,7 L9,1 Z\"/></marker></defs><defs><marker orient=\"auto\" markerHeight=\"28\" markerWidth=\"20\" refY=\"7\" refX=\"19\" class=\"marker aggregation classDiagram\" id=\"classDiagram-aggregationEnd\"><path d=\"M 18,7 L9,13 L1,7 L9,1 Z\"/></marker></defs><defs><marker orient=\"auto\" markerHeight=\"240\" markerWidth=\"190\" refY=\"7\" refX=\"0\" class=\"marker extension classDiagram\" id=\"classDiagram-extensionStart\"><path d=\"M 1,7 L18,13 V 1 Z\"/></marker></defs><defs><marker orient=\"auto\" markerHeight=\"28\" markerWidth=\"20\" refY=\"7\" refX=\"19\" class=\"marker extension classDiagram\" id=\"classDiagram-extensionEnd\"><path d=\"M 1,1 V 13 L18,7 Z\"/></marker></defs><defs><marker orient=\"auto\" markerHeight=\"240\" markerWidth=\"190\" refY=\"7\" refX=\"0\" class=\"marker composition classDiagram\" id=\"classDiagram-compositionStart\"><path d=\"M 18,7 L9,13 L1,7 L9,1 Z\"/></marker></defs><defs><marker orient=\"auto\" markerHeight=\"28\" markerWidth=\"20\" refY=\"7\" refX=\"19\" class=\"marker composition classDiagram\" id=\"classDiagram-compositionEnd\"><path d=\"M 18,7 L9,13 L1,7 L9,1 Z\"/></marker></defs><defs><marker orient=\"auto\" markerHeight=\"240\" markerWidth=\"190\" refY=\"7\" refX=\"0\" class=\"marker dependency classDiagram\" id=\"classDiagram-dependencyStart\"><path d=\"M 5,7 L9,13 L1,7 L9,1 Z\"/></marker></defs><defs><marker orient=\"auto\" markerHeight=\"28\" markerWidth=\"20\" refY=\"7\" refX=\"19\" class=\"marker dependency classDiagram\" id=\"classDiagram-dependencyEnd\"><path d=\"M 18,7 L9,13 L14,7 L9,1 Z\"/></marker></defs><defs><marker orient=\"auto\" markerHeight=\"240\" markerWidth=\"190\" refY=\"7\" refX=\"0\" class=\"marker lollipop classDiagram\" id=\"classDiagram-lollipopStart\"><circle r=\"6\" cy=\"7\" cx=\"6\" fill=\"white\" stroke=\"black\"/></marker></defs><g class=\"root\"><g class=\"clusters\"/><g class=\"edgePaths\"><path marker-end=\"url(#classDiagram-extensionEnd)\" style=\"fill:none\" class=\"edge-pattern-solid relation\" id=\"id1\" d=\"M131.4375,188.75124722838137L144.640625,183.75103935698448C157.84375,178.75083148558758,184.25,168.7504157427938,212.46875,163.7502078713969C240.6875,158.75,270.71875,158.75,285.734375,158.75L300.75,158.75\"/><path marker-end=\"url(#classDiagram-extensionEnd)\" style=\"fill:none\" class=\"edge-pattern-solid relation\" id=\"id2\" d=\"M103.10142949666914,252.125L121.02723291389096,273.6041666666667C138.95303633111277,295.0833333333333,174.8046431655564,338.0416666666667,221.0702903327782,359.5208333333333C267.3359375,381,324.015625,381,383.7330729166667,381C443.4505208333333,381,506.2057291666667,381,553.82421875,378.57339472423973C601.4427083333334,376.1467894484795,633.9244791666666,371.2935788969591,650.1653645833334,368.86697362119884L666.40625,366.44036834543857\"/><path marker-end=\"url(#classDiagram-extensionEnd)\" style=\"fill:none\" class=\"edge-pattern-solid relation\" id=\"id3\" d=\"M863.046875,351.75L877.8893229166666,351.75C892.7317708333334,351.75,922.4166666666666,351.75,953.3216145833334,351.75C984.2265625,351.75,1016.3515625,351.75,1032.4140625,351.75L1048.4765625,351.75\"/><path marker-end=\"url(#classDiagram-extensionEnd)\" style=\"fill:none\" class=\"edge-pattern-solid relation\" id=\"id4\" d=\"M826.9824377025932,300.5L847.8356251688277,283.3333333333333C868.6888126350622,266.1666666666667,910.3951875675311,231.83333333333334,946.0908229504322,211.94047329506762C981.7864583333334,192.0476132568019,1011.4713541666666,186.59522651360376,1026.3138020833333,183.86903314200472L1041.15625,181.1428397704057\"/><path marker-end=\"url(#classDiagram-extensionEnd)\" style=\"fill:none\" class=\"edge-pattern-solid relation\" id=\"id5\" d=\"M863.046875,401.8612199799867L877.8893229166666,409.4260166499889C892.7317708333334,416.9908133199911,922.4166666666666,432.1204066599956,964.02734375,439.6852033299978C1005.6380208333334,447.25,1059.1744791666667,447.25,1107.5970052083333,447.25C1156.01953125,447.25,1199.328125,447.25,1233.568359375,438.1585241542325C1267.80859375,429.067048308465,1292.98046875,410.8840966169301,1305.56640625,401.7926207711626L1318.15234375,392.70114492539517\"/><path marker-end=\"url(#classDiagram-extensionEnd)\" style=\"fill:none\" class=\"edge-pattern-solid relation\" id=\"id6\" d=\"M1148.9487404336735,300.5L1164.5634034863945,278.4166666666667C1180.1780665391157,256.3333333333333,1211.4073926445578,212.16666666666666,1239.0357275722788,181.22349436155022C1266.6640625,150.28032205643373,1290.69140625,132.5606441128675,1302.705078125,123.70080514108436L1314.71875,114.84096616930123\"/><path marker-end=\"url(#classDiagram-extensionEnd)\" style=\"fill:none\" class=\"edge-pattern-solid relation\" id=\"id7\" d=\"M1176.9453125,351.75L1187.8938802083333,351.75C1198.8424479166667,351.75,1220.7395833333333,351.75,1244.2740885416667,351.75C1267.80859375,351.75,1292.98046875,351.75,1305.56640625,351.75L1318.15234375,351.75\"/><path marker-end=\"url(#classDiagram-extensionEnd)\" style=\"fill:none\" class=\"edge-pattern-solid relation\" id=\"id8\" d=\"M1159.8521501659293,403L1173.6495782632744,418C1187.4470063606195,433,1215.0418625553098,463,1238.5678062776549,478C1262.09375,493,1281.55078125,493,1291.279296875,493L1301.0078125,493\"/><path marker-end=\"url(#classDiagram-extensionEnd)\" style=\"fill:none\" class=\"edge-pattern-solid relation\" id=\"id9\" d=\"M460.640625,121.27542742136276L478.6940104166667,112.81285618446897C496.7473958333333,104.35028494757518,532.8541666666666,87.4251424737876,583.53515625,78.9625712368938C634.2161458333334,70.5,699.4713541666666,70.5,763.328125,70.5C827.1848958333334,70.5,889.6432291666666,70.5,947.640625,70.5C1005.6380208333334,70.5,1059.1744791666667,70.5,1107.5970052083333,70.5C1156.01953125,70.5,1199.328125,70.5,1232.99609375,70.5C1266.6640625,70.5,1290.69140625,70.5,1302.705078125,70.5L1314.71875,70.5\"/><path marker-end=\"url(#classDiagram-extensionEnd)\" style=\"fill:none\" class=\"edge-pattern-solid relation\" id=\"id10\" d=\"M460.640625,204.08043198605694L478.6940104166667,214.31702665504744C496.7473958333333,224.55362132403798,532.8541666666666,245.026810662019,583.53515625,255.2634053310095C634.2161458333334,265.5,699.4713541666666,265.5,763.328125,265.5C827.1848958333334,265.5,889.6432291666666,265.5,947.640625,265.5C1005.6380208333334,265.5,1059.1744791666667,265.5,1107.5970052083333,265.5C1156.01953125,265.5,1199.328125,265.5,1233.568359375,273.7108878711774C1267.80859375,281.92177574235484,1292.98046875,298.34355148470974,1305.56640625,306.55443935588715L1318.15234375,314.7653272270646\"/><path marker-end=\"url(#classDiagram-extensionEnd)\" style=\"fill:none\" class=\"edge-pattern-solid relation\" id=\"id11\" d=\"M452.224805281155,221.25L471.68082731762917,238.25C491.13684935410333,255.25,530.0488934270517,289.25,565.7458008801925,308.6143846276638C601.4427083333334,327.9787692553277,633.9244791666666,332.7075385106553,650.1653645833334,335.0719231383191L666.40625,337.4363077659829\"/><path marker-end=\"url(#classDiagram-extensionEnd)\" style=\"fill:none\" class=\"edge-pattern-solid relation\" id=\"id12\" d=\"M460.640625,148.1870539048884L478.6940104166667,145.801711587407C496.7473958333333,143.41636926992558,532.8541666666666,138.6456846349628,583.53515625,136.26034231748142C634.2161458333334,133.875,699.4713541666666,133.875,763.328125,133.875C827.1848958333334,133.875,889.6432291666666,133.875,935.71484375,137.028605044265C981.7864583333334,140.18221008853,1011.4713541666666,146.48942017706003,1026.3138020833333,149.64302522132502L1041.15625,152.79663026559004\"/></g><g class=\"edgeLabels\"><g transform=\"translate(210.65625, 158.75)\" class=\"edgeLabel\"><g transform=\"translate(-54.21875, -9.25)\" class=\"label\"><foreignObject height=\"18.5\" width=\"108.4375\"><div xmlns=\"http://www.w3.org/1999/xhtml\" style=\"display: inline-block; white-space: nowrap;\"><span class=\"edgeLabel\"><span class=\"edgeLabel\">competition_id</span></span></div></foreignObject></g></g><g transform=\"translate(380.6953125, 381)\" class=\"edgeLabel\"><g transform=\"translate(-90.8203125, -9.25)\" class=\"label\"><foreignObject height=\"18.5\" width=\"181.640625\"><div xmlns=\"http://www.w3.org/1999/xhtml\" style=\"display: inline-block; white-space: nowrap;\"><span class=\"edgeLabel\"><span class=\"edgeLabel\">domestic_competition_id</span></span></div></foreignObject></g></g><g transform=\"translate(952.1015625, 351.75)\" class=\"edgeLabel\"><g transform=\"translate(-56.734375, -9.25)\" class=\"label\"><foreignObject height=\"18.5\" width=\"113.46875\"><div xmlns=\"http://www.w3.org/1999/xhtml\" style=\"display: inline-block; white-space: nowrap;\"><span class=\"edgeLabel\"><span class=\"edgeLabel\">current_club_id</span></span></div></foreignObject></g></g><g transform=\"translate(952.1015625, 197.5)\" class=\"edgeLabel\"><g transform=\"translate(-64.0546875, -9.25)\" class=\"label\"><foreignObject height=\"18.5\" width=\"128.109375\"><div xmlns=\"http://www.w3.org/1999/xhtml\" style=\"display: inline-block; white-space: nowrap;\"><span class=\"edgeLabel\"><span class=\"edgeLabel\">opponent/club_id</span></span></div></foreignObject></g></g><g transform=\"translate(1112.7109375, 447.25)\" class=\"edgeLabel\"><g transform=\"translate(-26.08203125, -9.25)\" class=\"label\"><foreignObject height=\"18.5\" width=\"52.1640625\"><div xmlns=\"http://www.w3.org/1999/xhtml\" style=\"display: inline-block; white-space: nowrap;\"><span class=\"edgeLabel\"><span class=\"edgeLabel\">club_id</span></span></div></foreignObject></g></g><g transform=\"translate(1242.63671875, 168)\" class=\"edgeLabel\"><g transform=\"translate(-33.37109375, -9.25)\" class=\"label\"><foreignObject height=\"18.5\" width=\"66.7421875\"><div xmlns=\"http://www.w3.org/1999/xhtml\" style=\"display: inline-block; white-space: nowrap;\"><span class=\"edgeLabel\"><span class=\"edgeLabel\">player_id</span></span></div></foreignObject></g></g><g transform=\"translate(1242.63671875, 351.75)\" class=\"edgeLabel\"><g transform=\"translate(-33.37109375, -9.25)\" class=\"label\"><foreignObject height=\"18.5\" width=\"66.7421875\"><div xmlns=\"http://www.w3.org/1999/xhtml\" style=\"display: inline-block; white-space: nowrap;\"><span class=\"edgeLabel\"><span class=\"edgeLabel\">player_id</span></span></div></foreignObject></g></g><g transform=\"translate(1242.63671875, 493)\" class=\"edgeLabel\"><g transform=\"translate(-33.37109375, -9.25)\" class=\"label\"><foreignObject height=\"18.5\" width=\"66.7421875\"><div xmlns=\"http://www.w3.org/1999/xhtml\" style=\"display: inline-block; white-space: nowrap;\"><span class=\"edgeLabel\"><span class=\"edgeLabel\">player_id</span></span></div></foreignObject></g></g><g transform=\"translate(952.1015625, 70.5)\" class=\"edgeLabel\"><g transform=\"translate(-30.15625, -9.25)\" class=\"label\"><foreignObject height=\"18.5\" width=\"60.3125\"><div xmlns=\"http://www.w3.org/1999/xhtml\" style=\"display: inline-block; white-space: nowrap;\"><span class=\"edgeLabel\"><span class=\"edgeLabel\">game_id</span></span></div></foreignObject></g></g><g transform=\"translate(952.1015625, 265.5)\" class=\"edgeLabel\"><g transform=\"translate(-30.15625, -9.25)\" class=\"label\"><foreignObject height=\"18.5\" width=\"60.3125\"><div xmlns=\"http://www.w3.org/1999/xhtml\" style=\"display: inline-block; white-space: nowrap;\"><span class=\"edgeLabel\"><span class=\"edgeLabel\">game_id</span></span></div></foreignObject></g></g><g transform=\"translate(568.9609375, 323.25)\" class=\"edgeLabel\"><g transform=\"translate(-72.4453125, -9.25)\" class=\"label\"><foreignObject height=\"18.5\" width=\"144.890625\"><div xmlns=\"http://www.w3.org/1999/xhtml\" style=\"display: inline-block; white-space: nowrap;\"><span class=\"edgeLabel\"><span class=\"edgeLabel\">home/away_club_id</span></span></div></foreignObject></g></g><g transform=\"translate(764.7265625, 133.875)\" class=\"edgeLabel\"><g transform=\"translate(-30.15625, -9.25)\" class=\"label\"><foreignObject height=\"18.5\" width=\"60.3125\"><div xmlns=\"http://www.w3.org/1999/xhtml\" style=\"display: inline-block; white-space: nowrap;\"><span class=\"edgeLabel\"><span class=\"edgeLabel\">game_id</span></span></div></foreignObject></g></g></g><g class=\"nodes\"><g transform=\"translate(69.71875, 212.125)\" id=\"classid-competitions-0\" class=\"node default\"><rect height=\"80\" width=\"123.4375\" y=\"-40\" x=\"-61.71875\" class=\"outer title-state\"/><line y2=\"-9.5\" y1=\"-9.5\" x2=\"61.71875\" x1=\"-61.71875\" class=\"divider\"/><line y2=\"29\" y1=\"29\" x2=\"61.71875\" x1=\"-61.71875\" class=\"divider\"/><g class=\"label\"><foreignObject height=\"0\" width=\"0\"><div xmlns=\"http://www.w3.org/1999/xhtml\" style=\"display: inline-block; white-space: nowrap;\"><span class=\"nodeLabel\"/></div></foreignObject><foreignObject transform=\"translate( -48.56640625, -32.5)\" height=\"18.5\" width=\"97.1328125\" class=\"classTitle\"><div xmlns=\"http://www.w3.org/1999/xhtml\" style=\"display: inline-block; white-space: nowrap;\"><span class=\"nodeLabel\">competitions</span></div></foreignObject><foreignObject transform=\"translate( -54.21875, 2)\" height=\"18.5\" width=\"108.4375\"><div xmlns=\"http://www.w3.org/1999/xhtml\" style=\"display: inline-block; white-space: nowrap;\"><span class=\"nodeLabel\">competition_id</span></div></foreignObject></g></g><g transform=\"translate(380.6953125, 158.75)\" id=\"classid-games-1\" class=\"node default\"><rect height=\"125\" width=\"159.890625\" y=\"-62.5\" x=\"-79.9453125\" class=\"outer title-state\"/><line y2=\"-32\" y1=\"-32\" x2=\"79.9453125\" x1=\"-79.9453125\" class=\"divider\"/><line y2=\"51.5\" y1=\"51.5\" x2=\"79.9453125\" x1=\"-79.9453125\" class=\"divider\"/><g class=\"label\"><foreignObject height=\"0\" width=\"0\"><div xmlns=\"http://www.w3.org/1999/xhtml\" style=\"display: inline-block; white-space: nowrap;\"><span class=\"nodeLabel\"/></div></foreignObject><foreignObject transform=\"translate( -23.1953125, -55)\" height=\"18.5\" width=\"46.390625\" class=\"classTitle\"><div xmlns=\"http://www.w3.org/1999/xhtml\" style=\"display: inline-block; white-space: nowrap;\"><span class=\"nodeLabel\">games</span></div></foreignObject><foreignObject transform=\"translate( -72.4453125, -20.5)\" height=\"18.5\" width=\"60.3125\"><div xmlns=\"http://www.w3.org/1999/xhtml\" style=\"display: inline-block; white-space: nowrap;\"><span class=\"nodeLabel\">game_id</span></div></foreignObject><foreignObject transform=\"translate( -72.4453125, 2)\" height=\"18.5\" width=\"144.890625\"><div xmlns=\"http://www.w3.org/1999/xhtml\" style=\"display: inline-block; white-space: nowrap;\"><span class=\"nodeLabel\">home/away_club_id</span></div></foreignObject><foreignObject transform=\"translate( -72.4453125, 24.5)\" height=\"18.5\" width=\"108.4375\"><div xmlns=\"http://www.w3.org/1999/xhtml\" style=\"display: inline-block; white-space: nowrap;\"><span class=\"nodeLabel\">competition_id</span></div></foreignObject></g></g><g transform=\"translate(764.7265625, 351.75)\" id=\"classid-clubs-2\" class=\"node default\"><rect height=\"102.5\" width=\"196.640625\" y=\"-51.25\" x=\"-98.3203125\" class=\"outer title-state\"/><line y2=\"-20.75\" y1=\"-20.75\" x2=\"98.3203125\" x1=\"-98.3203125\" class=\"divider\"/><line y2=\"40.25\" y1=\"40.25\" x2=\"98.3203125\" x1=\"-98.3203125\" class=\"divider\"/><g class=\"label\"><foreignObject height=\"0\" width=\"0\"><div xmlns=\"http://www.w3.org/1999/xhtml\" style=\"display: inline-block; white-space: nowrap;\"><span class=\"nodeLabel\"/></div></foreignObject><foreignObject transform=\"translate( -19.27734375, -43.75)\" height=\"18.5\" width=\"38.5546875\" class=\"classTitle\"><div xmlns=\"http://www.w3.org/1999/xhtml\" style=\"display: inline-block; white-space: nowrap;\"><span class=\"nodeLabel\">clubs</span></div></foreignObject><foreignObject transform=\"translate( -90.8203125, -9.25)\" height=\"18.5\" width=\"52.1640625\"><div xmlns=\"http://www.w3.org/1999/xhtml\" style=\"display: inline-block; white-space: nowrap;\"><span class=\"nodeLabel\">club_id</span></div></foreignObject><foreignObject transform=\"translate( -90.8203125, 13.25)\" height=\"18.5\" width=\"181.640625\"><div xmlns=\"http://www.w3.org/1999/xhtml\" style=\"display: inline-block; white-space: nowrap;\"><span class=\"nodeLabel\">domestic_competition_id</span></div></foreignObject></g></g><g transform=\"translate(1112.7109375, 351.75)\" id=\"classid-players-3\" class=\"node default\"><rect height=\"102.5\" width=\"128.46875\" y=\"-51.25\" x=\"-64.234375\" class=\"outer title-state\"/><line y2=\"-20.75\" y1=\"-20.75\" x2=\"64.234375\" x1=\"-64.234375\" class=\"divider\"/><line y2=\"40.25\" y1=\"40.25\" x2=\"64.234375\" x1=\"-64.234375\" class=\"divider\"/><g class=\"label\"><foreignObject height=\"0\" width=\"0\"><div xmlns=\"http://www.w3.org/1999/xhtml\" style=\"display: inline-block; white-space: nowrap;\"><span class=\"nodeLabel\"/></div></foreignObject><foreignObject transform=\"translate( -27.01171875, -43.75)\" height=\"18.5\" width=\"54.0234375\" class=\"classTitle\"><div xmlns=\"http://www.w3.org/1999/xhtml\" style=\"display: inline-block; white-space: nowrap;\"><span class=\"nodeLabel\">players</span></div></foreignObject><foreignObject transform=\"translate( -56.734375, -9.25)\" height=\"18.5\" width=\"66.7421875\"><div xmlns=\"http://www.w3.org/1999/xhtml\" style=\"display: inline-block; white-space: nowrap;\"><span class=\"nodeLabel\">player_id</span></div></foreignObject><foreignObject transform=\"translate( -56.734375, 13.25)\" height=\"18.5\" width=\"113.46875\"><div xmlns=\"http://www.w3.org/1999/xhtml\" style=\"display: inline-block; white-space: nowrap;\"><span class=\"nodeLabel\">current_club_id</span></div></foreignObject></g></g><g transform=\"translate(1112.7109375, 168)\" id=\"classid-club_games-4\" class=\"node default\"><rect height=\"125\" width=\"143.109375\" y=\"-62.5\" x=\"-71.5546875\" class=\"outer title-state\"/><line y2=\"-32\" y1=\"-32\" x2=\"71.5546875\" x1=\"-71.5546875\" class=\"divider\"/><line y2=\"51.5\" y1=\"51.5\" x2=\"71.5546875\" x1=\"-71.5546875\" class=\"divider\"/><g class=\"label\"><foreignObject height=\"0\" width=\"0\"><div xmlns=\"http://www.w3.org/1999/xhtml\" style=\"display: inline-block; white-space: nowrap;\"><span class=\"nodeLabel\"/></div></foreignObject><foreignObject transform=\"translate( -43.71484375, -55)\" height=\"18.5\" width=\"87.4296875\" class=\"classTitle\"><div xmlns=\"http://www.w3.org/1999/xhtml\" style=\"display: inline-block; white-space: nowrap;\"><span class=\"nodeLabel\">club_games</span></div></foreignObject><foreignObject transform=\"translate( -64.0546875, -20.5)\" height=\"18.5\" width=\"52.1640625\"><div xmlns=\"http://www.w3.org/1999/xhtml\" style=\"display: inline-block; white-space: nowrap;\"><span class=\"nodeLabel\">club_id</span></div></foreignObject><foreignObject transform=\"translate( -64.0546875, 2)\" height=\"18.5\" width=\"128.109375\"><div xmlns=\"http://www.w3.org/1999/xhtml\" style=\"display: inline-block; white-space: nowrap;\"><span class=\"nodeLabel\">opponent_club_id</span></div></foreignObject><foreignObject transform=\"translate( -64.0546875, 24.5)\" height=\"18.5\" width=\"60.3125\"><div xmlns=\"http://www.w3.org/1999/xhtml\" style=\"display: inline-block; white-space: nowrap;\"><span class=\"nodeLabel\">game_id</span></div></foreignObject></g></g><g transform=\"translate(1374.84375, 351.75)\" id=\"classid-game_events-5\" class=\"node default\"><rect height=\"102.5\" width=\"113.3828125\" y=\"-51.25\" x=\"-56.69140625\" class=\"outer title-state\"/><line y2=\"-20.75\" y1=\"-20.75\" x2=\"56.69140625\" x1=\"-56.69140625\" class=\"divider\"/><line y2=\"40.25\" y1=\"40.25\" x2=\"56.69140625\" x1=\"-56.69140625\" class=\"divider\"/><g class=\"label\"><foreignObject height=\"0\" width=\"0\"><div xmlns=\"http://www.w3.org/1999/xhtml\" style=\"display: inline-block; white-space: nowrap;\"><span class=\"nodeLabel\"/></div></foreignObject><foreignObject transform=\"translate( -49.19140625, -43.75)\" height=\"18.5\" width=\"98.3828125\" class=\"classTitle\"><div xmlns=\"http://www.w3.org/1999/xhtml\" style=\"display: inline-block; white-space: nowrap;\"><span class=\"nodeLabel\">game_events</span></div></foreignObject><foreignObject transform=\"translate( -49.19140625, -9.25)\" height=\"18.5\" width=\"60.3125\"><div xmlns=\"http://www.w3.org/1999/xhtml\" style=\"display: inline-block; white-space: nowrap;\"><span class=\"nodeLabel\">game_id</span></div></foreignObject><foreignObject transform=\"translate( -49.19140625, 13.25)\" height=\"18.5\" width=\"66.7421875\"><div xmlns=\"http://www.w3.org/1999/xhtml\" style=\"display: inline-block; white-space: nowrap;\"><span class=\"nodeLabel\">player_id</span></div></foreignObject></g></g><g transform=\"translate(1374.84375, 70.5)\" id=\"classid-appearances-6\" class=\"node default\"><rect height=\"125\" width=\"120.25\" y=\"-62.5\" x=\"-60.125\" class=\"outer title-state\"/><line y2=\"-32\" y1=\"-32\" x2=\"60.125\" x1=\"-60.125\" class=\"divider\"/><line y2=\"51.5\" y1=\"51.5\" x2=\"60.125\" x1=\"-60.125\" class=\"divider\"/><g class=\"label\"><foreignObject height=\"0\" width=\"0\"><div xmlns=\"http://www.w3.org/1999/xhtml\" style=\"display: inline-block; white-space: nowrap;\"><span class=\"nodeLabel\"/></div></foreignObject><foreignObject transform=\"translate( -46.73046875, -55)\" height=\"18.5\" width=\"93.4609375\" class=\"classTitle\"><div xmlns=\"http://www.w3.org/1999/xhtml\" style=\"display: inline-block; white-space: nowrap;\"><span class=\"nodeLabel\">appearances</span></div></foreignObject><foreignObject transform=\"translate( -52.625, -20.5)\" height=\"18.5\" width=\"105.25\"><div xmlns=\"http://www.w3.org/1999/xhtml\" style=\"display: inline-block; white-space: nowrap;\"><span class=\"nodeLabel\">appearance_id</span></div></foreignObject><foreignObject transform=\"translate( -52.625, 2)\" height=\"18.5\" width=\"66.7421875\"><div xmlns=\"http://www.w3.org/1999/xhtml\" style=\"display: inline-block; white-space: nowrap;\"><span class=\"nodeLabel\">player_id</span></div></foreignObject><foreignObject transform=\"translate( -52.625, 24.5)\" height=\"18.5\" width=\"60.3125\"><div xmlns=\"http://www.w3.org/1999/xhtml\" style=\"display: inline-block; white-space: nowrap;\"><span class=\"nodeLabel\">game_id</span></div></foreignObject></g></g><g transform=\"translate(1374.84375, 493)\" id=\"classid-player_valuations-7\" class=\"node default\"><rect height=\"80\" width=\"147.671875\" y=\"-40\" x=\"-73.8359375\" class=\"outer title-state\"/><line y2=\"-9.5\" y1=\"-9.5\" x2=\"73.8359375\" x1=\"-73.8359375\" class=\"divider\"/><line y2=\"29\" y1=\"29\" x2=\"73.8359375\" x1=\"-73.8359375\" class=\"divider\"/><g class=\"label\"><foreignObject height=\"0\" width=\"0\"><div xmlns=\"http://www.w3.org/1999/xhtml\" style=\"display: inline-block; white-space: nowrap;\"><span class=\"nodeLabel\"/></div></foreignObject><foreignObject transform=\"translate( -66.3359375, -32.5)\" height=\"18.5\" width=\"132.671875\" class=\"classTitle\"><div xmlns=\"http://www.w3.org/1999/xhtml\" style=\"display: inline-block; white-space: nowrap;\"><span class=\"nodeLabel\">player_valuations</span></div></foreignObject><foreignObject transform=\"translate( -66.3359375, 2)\" height=\"18.5\" width=\"66.7421875\"><div xmlns=\"http://www.w3.org/1999/xhtml\" style=\"display: inline-block; white-space: nowrap;\"><span class=\"nodeLabel\">player_id</span></div></foreignObject></g></g></g></g></g></svg>"
                        ],
                        "text/plain": [
                            "<IPython.core.display.SVG object>"
                        ]
                    },
                    "metadata": {},
                    "output_type": "display_data"
                }
            ],
            "source": [
                "from IPython.display import SVG, display\n",
                "\n",
                "display(SVG(filename=\"/workspaces/proyecto_final_transfer/data/datos_de_transfer/proyecto final/diagram.svg\"))"
            ]
        },
        {
            "cell_type": "code",
            "execution_count": 4,
            "metadata": {},
            "outputs": [
                {
                    "name": "stdout",
                    "output_type": "stream",
                    "text": [
                        "player_id\n",
                        "28003     269\n",
                        "32467     269\n",
                        "61253     264\n",
                        "8198      260\n",
                        "39153     260\n",
                        "         ... \n",
                        "446302      1\n",
                        "336168      1\n",
                        "458466      1\n",
                        "465967      1\n",
                        "409100      1\n",
                        "Name: count, Length: 14819, dtype: int64\n",
                        "\n",
                        "player_id\n",
                        "1260412    1\n",
                        "1260415    1\n",
                        "1260733    1\n",
                        "1262359    1\n",
                        "1262360    1\n",
                        "          ..\n",
                        "77         1\n",
                        "80         1\n",
                        "109        1\n",
                        "123        1\n",
                        "132        1\n",
                        "Name: count, Length: 32480, dtype: int64\n",
                        "\n",
                        "player_id\n",
                        "39333     53\n",
                        "44162     53\n",
                        "39153     52\n",
                        "57162     51\n",
                        "35664     50\n",
                        "          ..\n",
                        "149618     1\n",
                        "142326     1\n",
                        "874874     1\n",
                        "874877     1\n",
                        "875114     1\n",
                        "Name: count, Length: 30956, dtype: int64\n"
                    ]
                }
            ],
            "source": [
                "print(appearence[\"player_id\"].value_counts())\n",
                "print()\n",
                "print(players[\"player_id\"].value_counts())\n",
                "print()\n",
                "print(player_valuations[\"player_id\"].value_counts())"
            ]
        },
        {
            "cell_type": "code",
            "execution_count": 5,
            "metadata": {},
            "outputs": [
                {
                    "name": "stdout",
                    "output_type": "stream",
                    "text": [
                        "(697243, 35)\n",
                        "player_id\n",
                        "28003     269\n",
                        "32467     269\n",
                        "61253     264\n",
                        "8198      260\n",
                        "39153     260\n",
                        "         ... \n",
                        "446302      1\n",
                        "336168      1\n",
                        "458466      1\n",
                        "465967      1\n",
                        "409100      1\n",
                        "Name: count, Length: 14819, dtype: int64\n"
                    ]
                }
            ],
            "source": [
                "result = pd.merge(appearence,players , on='player_id', how='inner')  # 'on' especifica la columna común\n",
                "print(result.shape)\n",
                "print(result[\"player_id\"].value_counts())"
            ]
        },
        {
            "cell_type": "code",
            "execution_count": 6,
            "metadata": {},
            "outputs": [
                {
                    "name": "stdout",
                    "output_type": "stream",
                    "text": [
                        "(1394486, 45)\n",
                        "player_id\n",
                        "28003     538\n",
                        "32467     538\n",
                        "61253     528\n",
                        "8198      520\n",
                        "39153     520\n",
                        "         ... \n",
                        "446302      2\n",
                        "336168      2\n",
                        "458466      2\n",
                        "465967      2\n",
                        "409100      2\n",
                        "Name: count, Length: 14819, dtype: int64\n"
                    ]
                }
            ],
            "source": [
                "merged_df = pd.merge(result, club_games, on='game_id', how='inner')\n",
                "print(merged_df.shape)\n",
                "#print(merged_df.notnull().sum())\n",
                "print(merged_df[\"player_id\"].value_counts())"
            ]
        },
        {
            "cell_type": "code",
            "execution_count": 7,
            "metadata": {},
            "outputs": [
                {
                    "name": "stdout",
                    "output_type": "stream",
                    "text": [
                        "(494561, 27)\n",
                        "player_id\n",
                        "39333     53\n",
                        "44162     53\n",
                        "39153     52\n",
                        "57162     51\n",
                        "35664     50\n",
                        "          ..\n",
                        "149618     1\n",
                        "142326     1\n",
                        "874874     1\n",
                        "874877     1\n",
                        "875114     1\n",
                        "Name: count, Length: 30956, dtype: int64\n"
                    ]
                }
            ],
            "source": [
                "result2 = pd.merge(player_valuations,players , on='player_id', how='inner')  # 'on' especifica la columna común\n",
                "print(result2.shape)\n",
                "print(result2[\"player_id\"].value_counts())"
            ]
        },
        {
            "cell_type": "code",
            "execution_count": 8,
            "metadata": {},
            "outputs": [
                {
                    "data": {
                        "text/html": [
                            "<div>\n",
                            "<style scoped>\n",
                            "    .dataframe tbody tr th:only-of-type {\n",
                            "        vertical-align: middle;\n",
                            "    }\n",
                            "\n",
                            "    .dataframe tbody tr th {\n",
                            "        vertical-align: top;\n",
                            "    }\n",
                            "\n",
                            "    .dataframe thead th {\n",
                            "        text-align: right;\n",
                            "    }\n",
                            "</style>\n",
                            "<table border=\"1\" class=\"dataframe\">\n",
                            "  <thead>\n",
                            "    <tr style=\"text-align: right;\">\n",
                            "      <th></th>\n",
                            "      <th>player_id</th>\n",
                            "      <th>date</th>\n",
                            "      <th>market_value_in_eur_x</th>\n",
                            "      <th>current_club_id_x</th>\n",
                            "      <th>player_club_domestic_competition_id</th>\n",
                            "      <th>first_name</th>\n",
                            "      <th>last_name</th>\n",
                            "      <th>name</th>\n",
                            "      <th>last_season</th>\n",
                            "      <th>current_club_id_y</th>\n",
                            "      <th>...</th>\n",
                            "      <th>foot</th>\n",
                            "      <th>height_in_cm</th>\n",
                            "      <th>contract_expiration_date</th>\n",
                            "      <th>agent_name</th>\n",
                            "      <th>image_url</th>\n",
                            "      <th>url</th>\n",
                            "      <th>current_club_domestic_competition_id</th>\n",
                            "      <th>current_club_name</th>\n",
                            "      <th>market_value_in_eur_y</th>\n",
                            "      <th>highest_market_value_in_eur</th>\n",
                            "    </tr>\n",
                            "  </thead>\n",
                            "  <tbody>\n",
                            "    <tr>\n",
                            "      <th>0</th>\n",
                            "      <td>405973</td>\n",
                            "      <td>2000-01-20</td>\n",
                            "      <td>150000</td>\n",
                            "      <td>3057</td>\n",
                            "      <td>BE1</td>\n",
                            "      <td>Fadel</td>\n",
                            "      <td>Gobitaka</td>\n",
                            "      <td>Fadel Gobitaka</td>\n",
                            "      <td>2017</td>\n",
                            "      <td>3057</td>\n",
                            "      <td>...</td>\n",
                            "      <td>NaN</td>\n",
                            "      <td>181.0</td>\n",
                            "      <td>2023-06-30 00:00:00</td>\n",
                            "      <td>NaN</td>\n",
                            "      <td>https://img.a.transfermarkt.technology/portrai...</td>\n",
                            "      <td>https://www.transfermarkt.co.uk/fadel-gobitaka...</td>\n",
                            "      <td>BE1</td>\n",
                            "      <td>Royal Standard Club de Liège</td>\n",
                            "      <td>50000.0</td>\n",
                            "      <td>250000.0</td>\n",
                            "    </tr>\n",
                            "    <tr>\n",
                            "      <th>1</th>\n",
                            "      <td>342216</td>\n",
                            "      <td>2001-07-20</td>\n",
                            "      <td>100000</td>\n",
                            "      <td>1241</td>\n",
                            "      <td>SC1</td>\n",
                            "      <td>Julien</td>\n",
                            "      <td>Serrano</td>\n",
                            "      <td>Julien Serrano</td>\n",
                            "      <td>2020</td>\n",
                            "      <td>1241</td>\n",
                            "      <td>...</td>\n",
                            "      <td>left</td>\n",
                            "      <td>181.0</td>\n",
                            "      <td>NaN</td>\n",
                            "      <td>Wasserman</td>\n",
                            "      <td>https://img.a.transfermarkt.technology/portrai...</td>\n",
                            "      <td>https://www.transfermarkt.co.uk/julien-serrano...</td>\n",
                            "      <td>SC1</td>\n",
                            "      <td>Livingston FC</td>\n",
                            "      <td>250000.0</td>\n",
                            "      <td>2000000.0</td>\n",
                            "    </tr>\n",
                            "    <tr>\n",
                            "      <th>2</th>\n",
                            "      <td>3132</td>\n",
                            "      <td>2003-12-09</td>\n",
                            "      <td>400000</td>\n",
                            "      <td>126</td>\n",
                            "      <td>TR1</td>\n",
                            "      <td>Florin</td>\n",
                            "      <td>Cernat</td>\n",
                            "      <td>Florin Cernat</td>\n",
                            "      <td>2013</td>\n",
                            "      <td>126</td>\n",
                            "      <td>...</td>\n",
                            "      <td>left</td>\n",
                            "      <td>168.0</td>\n",
                            "      <td>NaN</td>\n",
                            "      <td>NaN</td>\n",
                            "      <td>https://img.a.transfermarkt.technology/portrai...</td>\n",
                            "      <td>https://www.transfermarkt.co.uk/florin-cernat/...</td>\n",
                            "      <td>TR1</td>\n",
                            "      <td>Çaykur Rizespor Kulübü</td>\n",
                            "      <td>100000.0</td>\n",
                            "      <td>2800000.0</td>\n",
                            "    </tr>\n",
                            "    <tr>\n",
                            "      <th>3</th>\n",
                            "      <td>6893</td>\n",
                            "      <td>2003-12-15</td>\n",
                            "      <td>900000</td>\n",
                            "      <td>984</td>\n",
                            "      <td>GB1</td>\n",
                            "      <td>Gabriel</td>\n",
                            "      <td>Tamas</td>\n",
                            "      <td>Gabriel Tamas</td>\n",
                            "      <td>2012</td>\n",
                            "      <td>984</td>\n",
                            "      <td>...</td>\n",
                            "      <td>right</td>\n",
                            "      <td>188.0</td>\n",
                            "      <td>2023-06-30 00:00:00</td>\n",
                            "      <td>Elite Soccer Sarl</td>\n",
                            "      <td>https://img.a.transfermarkt.technology/portrai...</td>\n",
                            "      <td>https://www.transfermarkt.co.uk/gabriel-tamas/...</td>\n",
                            "      <td>GB1</td>\n",
                            "      <td>West Bromwich Albion</td>\n",
                            "      <td>100000.0</td>\n",
                            "      <td>4000000.0</td>\n",
                            "    </tr>\n",
                            "    <tr>\n",
                            "      <th>4</th>\n",
                            "      <td>10</td>\n",
                            "      <td>2004-10-04</td>\n",
                            "      <td>7000000</td>\n",
                            "      <td>398</td>\n",
                            "      <td>IT1</td>\n",
                            "      <td>Miroslav</td>\n",
                            "      <td>Klose</td>\n",
                            "      <td>Miroslav Klose</td>\n",
                            "      <td>2015</td>\n",
                            "      <td>398</td>\n",
                            "      <td>...</td>\n",
                            "      <td>right</td>\n",
                            "      <td>184.0</td>\n",
                            "      <td>NaN</td>\n",
                            "      <td>ASBW Sport Marketing</td>\n",
                            "      <td>https://img.a.transfermarkt.technology/portrai...</td>\n",
                            "      <td>https://www.transfermarkt.co.uk/miroslav-klose...</td>\n",
                            "      <td>IT1</td>\n",
                            "      <td>Società Sportiva Lazio S.p.A.</td>\n",
                            "      <td>1000000.0</td>\n",
                            "      <td>30000000.0</td>\n",
                            "    </tr>\n",
                            "  </tbody>\n",
                            "</table>\n",
                            "<p>5 rows × 27 columns</p>\n",
                            "</div>"
                        ],
                        "text/plain": [
                            "   player_id        date  market_value_in_eur_x  current_club_id_x  \\\n",
                            "0     405973  2000-01-20                 150000               3057   \n",
                            "1     342216  2001-07-20                 100000               1241   \n",
                            "2       3132  2003-12-09                 400000                126   \n",
                            "3       6893  2003-12-15                 900000                984   \n",
                            "4         10  2004-10-04                7000000                398   \n",
                            "\n",
                            "  player_club_domestic_competition_id first_name last_name            name  \\\n",
                            "0                                 BE1      Fadel  Gobitaka  Fadel Gobitaka   \n",
                            "1                                 SC1     Julien   Serrano  Julien Serrano   \n",
                            "2                                 TR1     Florin    Cernat   Florin Cernat   \n",
                            "3                                 GB1    Gabriel     Tamas   Gabriel Tamas   \n",
                            "4                                 IT1   Miroslav     Klose  Miroslav Klose   \n",
                            "\n",
                            "   last_season  current_club_id_y  ...   foot height_in_cm  \\\n",
                            "0         2017               3057  ...    NaN        181.0   \n",
                            "1         2020               1241  ...   left        181.0   \n",
                            "2         2013                126  ...   left        168.0   \n",
                            "3         2012                984  ...  right        188.0   \n",
                            "4         2015                398  ...  right        184.0   \n",
                            "\n",
                            "  contract_expiration_date            agent_name  \\\n",
                            "0      2023-06-30 00:00:00                   NaN   \n",
                            "1                      NaN             Wasserman   \n",
                            "2                      NaN                   NaN   \n",
                            "3      2023-06-30 00:00:00     Elite Soccer Sarl   \n",
                            "4                      NaN  ASBW Sport Marketing   \n",
                            "\n",
                            "                                           image_url  \\\n",
                            "0  https://img.a.transfermarkt.technology/portrai...   \n",
                            "1  https://img.a.transfermarkt.technology/portrai...   \n",
                            "2  https://img.a.transfermarkt.technology/portrai...   \n",
                            "3  https://img.a.transfermarkt.technology/portrai...   \n",
                            "4  https://img.a.transfermarkt.technology/portrai...   \n",
                            "\n",
                            "                                                 url  \\\n",
                            "0  https://www.transfermarkt.co.uk/fadel-gobitaka...   \n",
                            "1  https://www.transfermarkt.co.uk/julien-serrano...   \n",
                            "2  https://www.transfermarkt.co.uk/florin-cernat/...   \n",
                            "3  https://www.transfermarkt.co.uk/gabriel-tamas/...   \n",
                            "4  https://www.transfermarkt.co.uk/miroslav-klose...   \n",
                            "\n",
                            "  current_club_domestic_competition_id              current_club_name  \\\n",
                            "0                                  BE1   Royal Standard Club de Liège   \n",
                            "1                                  SC1                  Livingston FC   \n",
                            "2                                  TR1         Çaykur Rizespor Kulübü   \n",
                            "3                                  GB1           West Bromwich Albion   \n",
                            "4                                  IT1  Società Sportiva Lazio S.p.A.   \n",
                            "\n",
                            "   market_value_in_eur_y highest_market_value_in_eur  \n",
                            "0                50000.0                    250000.0  \n",
                            "1               250000.0                   2000000.0  \n",
                            "2               100000.0                   2800000.0  \n",
                            "3               100000.0                   4000000.0  \n",
                            "4              1000000.0                  30000000.0  \n",
                            "\n",
                            "[5 rows x 27 columns]"
                        ]
                    },
                    "execution_count": 8,
                    "metadata": {},
                    "output_type": "execute_result"
                }
            ],
            "source": [
                "result2.head()"
            ]
        },
        {
            "cell_type": "code",
            "execution_count": 9,
            "metadata": {},
            "outputs": [
                {
                    "ename": "",
                    "evalue": "",
                    "output_type": "error",
                    "traceback": [
                        "\u001b[1;31mEl kernel se bloqueó al ejecutar código en la celda actual o en una celda anterior. \n",
                        "\u001b[1;31mRevise el código de las celdas para identificar una posible causa del error. \n",
                        "\u001b[1;31mHaga clic <a href='https://aka.ms/vscodeJupyterKernelCrash'>aquí</a> para obtener más información. \n",
                        "\u001b[1;31mVea Jupyter <a href='command:jupyter.viewOutput'>log</a> para obtener más detalles."
                    ]
                }
            ],
            "source": [
                "result3 = pd.merge(result2,appearence , on='player_id', how='inner')  # 'on' especifica la columna común\n",
                "print(result3.shape)\n",
                "print(result3[\"player_id\"].value_counts())"
            ]
        }
    ],
    "metadata": {
        "kernelspec": {
            "display_name": "Python 3",
            "language": "python",
            "name": "python3"
        },
        "language_info": {
            "codemirror_mode": {
                "name": "ipython",
                "version": 3
            },
            "file_extension": ".py",
            "mimetype": "text/x-python",
            "name": "python",
            "nbconvert_exporter": "python",
            "pygments_lexer": "ipython3",
            "version": "3.10.12"
        },
        "orig_nbformat": 4
    },
    "nbformat": 4,
    "nbformat_minor": 2
}
