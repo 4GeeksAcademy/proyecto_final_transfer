{
    "cells": [
        {
            "cell_type": "markdown",
            "metadata": {},
            "source": [
                "# Explore here"
            ]
        },
        {
            "cell_type": "code",
            "execution_count": 1,
            "metadata": {},
            "outputs": [],
            "source": [
                "import pandas as pd"
            ]
        },
        {
            "cell_type": "code",
            "execution_count": 9,
            "metadata": {},
            "outputs": [
                {
                    "name": "stdout",
                    "output_type": "stream",
                    "text": [
                        "El shape de Appearence es (697243, 13)\n",
                        "El shape de Club Games es (145274, 11)\n",
                        "El shape de Clubs es (439, 17)\n",
                        "El shape de Competitios es (44, 11)\n",
                        "El shape de Game events es (555044, 10)\n",
                        "El shape de Game Lineups es (474540, 10)\n",
                        "El shape de Transfers es (78658, 10)\n",
                        "El shape de Players es (32480, 23)\n",
                        "El shape de Games es (72637, 23)\n",
                        "El shape de Player Valuations es (494561, 5)\n"
                    ]
                }
            ],
            "source": [
                "# Apertura de datasets\n",
                "\n",
                "appearence = pd.read_csv(\"/workspaces/proyecto_final_transfer/data/datos_de_transfer/proyecto final/appearances.csv\")\n",
                "club_games = pd.read_csv(\"/workspaces/proyecto_final_transfer/data/datos_de_transfer/proyecto final/club_games.csv\")\n",
                "clubs = pd.read_csv(\"/workspaces/proyecto_final_transfer/data/datos_de_transfer/proyecto final/clubs.csv\")\n",
                "competitions = pd.read_csv(\"/workspaces/proyecto_final_transfer/data/datos_de_transfer/proyecto final/competitions.csv\")\n",
                "game_events = pd.read_csv(\"/workspaces/proyecto_final_transfer/data/datos_de_transfer/proyecto final/game_events.csv\")\n",
                "game_lineups = pd.read_csv(\"/workspaces/proyecto_final_transfer/data/datos_de_transfer/proyecto final/game_lineups.csv\")\n",
                "transfers = pd.read_csv(\"/workspaces/proyecto_final_transfer/data/datos_de_transfer/proyecto final/transfers.csv\")\n",
                "players = pd.read_csv(\"/workspaces/proyecto_final_transfer/data/datos_de_transfer/proyecto final/players.csv\")\n",
                "games = pd.read_csv(\"/workspaces/proyecto_final_transfer/data/datos_de_transfer/proyecto final/games.csv\")\n",
                "player_valuations = pd.read_csv(\"/workspaces/proyecto_final_transfer/data/datos_de_transfer/proyecto final/player_valuations.csv\")\n",
                "\n",
                "# Supongamos que tienes tus datasets en un diccionario para organizarlos\n",
                "datasets = {\"Appearence\": appearence, \"Club Games\": club_games, \"Clubs\": clubs, \"Competitions\": competitions,\n",
                "            \"Game events\":game_events, \"Game Lineups\":game_lineups, \"Transfers\":transfers, \"Players\":players,\n",
                "            \"Games\":games, \"Player Valuations\":player_valuations}\n",
                "\n",
                "\n",
                "for name, dataset in datasets.items():\n",
                "    print(f\"El shape de {name}: {dataset.shape}\")\n"
            ]
        },
        {
            "cell_type": "code",
            "execution_count": 23,
            "metadata": {},
            "outputs": [
                {
                    "data": {
                        "text/plain": [
                            "player_id\n",
                            "28003     269\n",
                            "32467     269\n",
                            "61253     264\n",
                            "8198      260\n",
                            "39153     260\n",
                            "         ... \n",
                            "446302      1\n",
                            "336168      1\n",
                            "458466      1\n",
                            "465967      1\n",
                            "409100      1\n",
                            "Name: count, Length: 14819, dtype: int64"
                        ]
                    },
                    "execution_count": 23,
                    "metadata": {},
                    "output_type": "execute_result"
                }
            ],
            "source": [
                "appearence[\"player_id\"].value_counts()"
            ]
        },
        {
            "cell_type": "code",
            "execution_count": 24,
            "metadata": {},
            "outputs": [
                {
                    "name": "stdout",
                    "output_type": "stream",
                    "text": [
                        "(697243, 35)\n",
                        "player_id\n",
                        "28003     269\n",
                        "32467     269\n",
                        "61253     264\n",
                        "8198      260\n",
                        "39153     260\n",
                        "         ... \n",
                        "446302      1\n",
                        "336168      1\n",
                        "458466      1\n",
                        "465967      1\n",
                        "409100      1\n",
                        "Name: count, Length: 14819, dtype: int64\n"
                    ]
                }
            ],
            "source": [
                "result = pd.merge(appearence,players , on='player_id', how='inner')  # 'on' especifica la columna común\n",
                "print(result.shape)\n",
                "print(result[\"player_id\"].value_counts())"
            ]
        },
        {
            "cell_type": "code",
            "execution_count": 25,
            "metadata": {},
            "outputs": [
                {
                    "name": "stdout",
                    "output_type": "stream",
                    "text": [
                        "(1394486, 45)\n",
                        "player_id\n",
                        "28003     538\n",
                        "32467     538\n",
                        "61253     528\n",
                        "8198      520\n",
                        "39153     520\n",
                        "         ... \n",
                        "446302      2\n",
                        "336168      2\n",
                        "458466      2\n",
                        "465967      2\n",
                        "409100      2\n",
                        "Name: count, Length: 14819, dtype: int64\n"
                    ]
                }
            ],
            "source": [
                "merged_df = pd.merge(result, club_games, on='game_id', how='inner')\n",
                "print(merged_df.shape)\n",
                "#print(merged_df.notnull().sum())\n",
                "print(merged_df[\"player_id\"].value_counts())"
            ]
        }
    ],
    "metadata": {
        "kernelspec": {
            "display_name": "Python 3",
            "language": "python",
            "name": "python3"
        },
        "language_info": {
            "codemirror_mode": {
                "name": "ipython",
                "version": 3
            },
            "file_extension": ".py",
            "mimetype": "text/x-python",
            "name": "python",
            "nbconvert_exporter": "python",
            "pygments_lexer": "ipython3",
            "version": "3.10.12"
        },
        "orig_nbformat": 4
    },
    "nbformat": 4,
    "nbformat_minor": 2
}
