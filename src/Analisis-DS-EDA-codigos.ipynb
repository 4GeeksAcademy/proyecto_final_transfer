{
 "cells": [
  {
   "cell_type": "markdown",
   "metadata": {},
   "source": [
    "### Análisis del dataset y características\n"
   ]
  },
  {
   "cell_type": "code",
   "execution_count": null,
   "metadata": {
    "vscode": {
     "languageId": "plaintext"
    }
   },
   "outputs": [],
   "source": [
    "df=dataset\n",
    "\n",
    "# Shape: cantidad de filas y columnas\n",
    "\n",
    "datos,atributos=df.shape\n",
    "print(f\"Contamos con {datos} cantidad de datos y {atributos} atributos.\")\n",
    "\n",
    "\n",
    "# Valores duplicados\n",
    "\n",
    "duplicados = df.duplicated()\n",
    "num_duplicados = duplicados.sum()\n",
    "print(f\"Contamos con {num_duplicados} datos duplicados.\")\n",
    "\n",
    "\n",
    "# info: da las columnas y cantidad de datos no nulos (NaN)\n",
    "df.info()\n",
    "\n",
    "\n",
    "# Resumen estadístico\n",
    "df.describe()\n",
    "\n",
    "\n",
    "# Frecuencias de columnas\n",
    "frec = df['columna'].value_counts()\n",
    "# o\n",
    "df.columna.value_counts()\n",
    "\n",
    "# Visualizar frecuencias\n",
    "sns.countplot(data=df, x='columna', hue='columna', palette='pastel')\n",
    "plt.title(\"Frecuencia de columna\")\n",
    "plt.show()\n",
    "\n",
    "\n",
    "# Eliminado de columnas\n",
    "df_filtrado=df\n",
    "df_filtrado.drop([\"col1\", \"col2\", \"col3\"], axis = 1, inplace = True)\n",
    "\n",
    "\n",
    "\n"
   ]
  }
 ],
 "metadata": {
  "language_info": {
   "name": "python"
  }
 },
 "nbformat": 4,
 "nbformat_minor": 2
}
